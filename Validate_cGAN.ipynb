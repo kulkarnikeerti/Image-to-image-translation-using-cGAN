{
  "nbformat": 4,
  "nbformat_minor": 0,
  "metadata": {
    "colab": {
      "name": "Copy of Validate_cGAN.ipynb",
      "provenance": [],
      "collapsed_sections": []
    },
    "kernelspec": {
      "name": "python3",
      "display_name": "Python 3"
    },
    "accelerator": "GPU"
  },
  "cells": [
    {
      "cell_type": "code",
      "metadata": {
        "id": "bWslxQwLJKHD",
        "colab_type": "code",
        "colab": {}
      },
      "source": [
        "import tensorflow as tf\n",
        "import keras\n",
        "from keras.layers import LeakyReLU\n",
        "from os import listdir\n",
        "from numpy import asarray\n",
        "from keras.preprocessing.image import img_to_array\n",
        "from keras.preprocessing.image import load_img\n",
        "from numpy import savez_compressed\n",
        "from numpy import vstack\n",
        "from numpy import ones\n",
        "from numpy import zeros\n",
        "from keras.initializers import RandomNormal\n",
        "from numpy.random import randint"
      ],
      "execution_count": 0,
      "outputs": []
    },
    {
      "cell_type": "code",
      "metadata": {
        "id": "K6HZXpX7JL2c",
        "colab_type": "code",
        "colab": {}
      },
      "source": [
        "#Loading the dataset and spliting it into edge images and real images\n",
        "def load_images(path, size=(256,512)):\n",
        "  src_img, targ_img = list(), list()\n",
        "  for filename in listdir(path):\n",
        "    image = load_img(path+'/'+filename, target_size=size)\n",
        "    pixels = img_to_array(image)\n",
        "    edge_image, real_image = pixels[:,:256], pixels[:,256:]\n",
        "    src_img.append(edge_image)\n",
        "    targ_img.append(real_image)\n",
        "  return [asarray(src_img), asarray(targ_img)]\n",
        "\n",
        "path = \"facades/val\"\n",
        "print(path)\n",
        "[src_imageset, targ_imageset] = load_images(path)\n",
        "print(\"loaded:\", src_imageset.shape, targ_imageset.shape)\n",
        "filename = \"facades.npz\"\n",
        "savez_compressed(filename, src_imageset, targ_imageset)\n",
        "print(\"saved dataset\", filename)\n"
      ],
      "execution_count": 0,
      "outputs": []
    },
    {
      "cell_type": "code",
      "metadata": {
        "id": "1H7Vl9aLJXp7",
        "colab_type": "code",
        "colab": {}
      },
      "source": [
        "data = load(\"facades.npz\")\n",
        "src_image, targ_image = data[\"arr_0\"], data[\"arr_1\"]\n",
        "src_image = (src_image-127.5)/127.5\n",
        "targ_image = (targ_image-127.5)/127.5\n",
        "print(\"loaded\", src_image.shape, targ_image.shape)\n",
        "gen_image = load_model(\"model_109600.h5\")\n",
        " \n",
        "images = vstack((src_image, gen_image, targ_image))\n",
        "#scaling [-1,1] to [0,1]\n",
        "images = (images+1)/2.0\n",
        "titles = [\"Source\", \"Generated\", \"Expected\"]\n",
        "for i in range(len(images)):\n",
        "  pyplot.subplot(1,3,1+i)\n",
        "  pyplot.axis(\"off\")\n",
        "  pypolt.imshow(images[i])\n",
        "  pypolt.title(titles[i])\n",
        "pyplot.show()\n",
        "\n",
        " "
      ],
      "execution_count": 0,
      "outputs": []
    }
  ]
}